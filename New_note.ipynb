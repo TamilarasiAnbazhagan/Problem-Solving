{
  "nbformat": 4,
  "nbformat_minor": 0,
  "metadata": {
    "colab": {
      "name": "New_note.ipynb",
      "provenance": [],
      "collapsed_sections": [],
      "include_colab_link": true
    },
    "kernelspec": {
      "name": "python3",
      "display_name": "Python 3"
    },
    "accelerator": "GPU"
  },
  "cells": [
    {
      "cell_type": "markdown",
      "metadata": {
        "id": "view-in-github",
        "colab_type": "text"
      },
      "source": [
        "<a href=\"https://colab.research.google.com/github/TamilarasiAnbazhagan/Problem-Solving/blob/master/New_note.ipynb\" target=\"_parent\"><img src=\"https://colab.research.google.com/assets/colab-badge.svg\" alt=\"Open In Colab\"/></a>"
      ]
    },
    {
      "cell_type": "code",
      "metadata": {
        "id": "NW-eg6Ms1x9F",
        "colab_type": "code",
        "colab": {}
      },
      "source": [
        "import sklearn\n",
        "import numpy as np \n",
        "import pandas as pd \n",
        "import matplotlib.pyplot as plt\n",
        "%matplotlib inline\n",
        "import tensorflow as tf\n",
        "import keras\n",
        "import glob\n",
        "import cv2\n",
        "import os"
      ],
      "execution_count": 0,
      "outputs": []
    },
    {
      "cell_type": "code",
      "metadata": {
        "id": "jX4Ll4CT3jPR",
        "colab_type": "code",
        "outputId": "c9f9c574-da9a-454f-d54b-f0337e00a56e",
        "colab": {
          "base_uri": "https://localhost:8080/",
          "height": 34
        }
      },
      "source": [
        "from google.colab import drive\n",
        "drive.mount('/content/drive')"
      ],
      "execution_count": 0,
      "outputs": [
        {
          "output_type": "stream",
          "text": [
            "Drive already mounted at /content/drive; to attempt to forcibly remount, call drive.mount(\"/content/drive\", force_remount=True).\n"
          ],
          "name": "stdout"
        }
      ]
    },
    {
      "cell_type": "code",
      "metadata": {
        "id": "yao9TJFu3ts4",
        "colab_type": "code",
        "colab": {}
      },
      "source": [
        "currency_images = []\n",
        "labels = [] \n",
        "for currency_dir_path in glob.glob(\"/content/drive/My Drive/Project/new note/train_data/*\"):\n",
        "    currency_label = currency_dir_path.split(\"/\")[-1]\n",
        "    for image_path in glob.glob(os.path.join(currency_dir_path, \"*.jpg\")):\n",
        "        image = cv2.imread(image_path, cv2.IMREAD_COLOR)\n",
        "        image = cv2.resize(image, (110, 110))\n",
        "        image = cv2.cvtColor(image, cv2.COLOR_RGB2GRAY) \n",
        "        currency_images.append(image)\n",
        "        labels.append(currency_label)\n",
        "currency_images = np.array(currency_images)\n",
        "currency_images = currency_images.reshape(len(currency_images),-1)\n",
        "labels = np.array(labels)"
      ],
      "execution_count": 0,
      "outputs": []
    },
    {
      "cell_type": "code",
      "metadata": {
        "id": "zExha74F6rlV",
        "colab_type": "code",
        "outputId": "b8d9f337-9056-49b9-beb4-4bbf4d4787d2",
        "colab": {
          "base_uri": "https://localhost:8080/",
          "height": 34
        }
      },
      "source": [
        "print(np.shape(currency_images))"
      ],
      "execution_count": 0,
      "outputs": [
        {
          "output_type": "stream",
          "text": [
            "(321, 12100)\n"
          ],
          "name": "stdout"
        }
      ]
    },
    {
      "cell_type": "code",
      "metadata": {
        "id": "cBhrWAo37peb",
        "colab_type": "code",
        "outputId": "5e21c034-de22-415e-d39c-69f9f08f286b",
        "colab": {
          "base_uri": "https://localhost:8080/",
          "height": 190
        }
      },
      "source": [
        "from sklearn import svm\n",
        "from sklearn.ensemble import RandomForestClassifier\n",
        "#clf = svm.SVC(decision_function_shape='ovo')\n",
        "\n",
        "clf=RandomForestClassifier(max_depth=9, random_state=0)\n",
        "clf.fit(currency_images, labels)\n",
        "#clsvm.fit(currency_images, labels)"
      ],
      "execution_count": 0,
      "outputs": [
        {
          "output_type": "stream",
          "text": [
            "/usr/local/lib/python3.6/dist-packages/sklearn/ensemble/forest.py:245: FutureWarning: The default value of n_estimators will change from 10 in version 0.20 to 100 in 0.22.\n",
            "  \"10 in version 0.20 to 100 in 0.22.\", FutureWarning)\n"
          ],
          "name": "stderr"
        },
        {
          "output_type": "execute_result",
          "data": {
            "text/plain": [
              "RandomForestClassifier(bootstrap=True, class_weight=None, criterion='gini',\n",
              "                       max_depth=9, max_features='auto', max_leaf_nodes=None,\n",
              "                       min_impurity_decrease=0.0, min_impurity_split=None,\n",
              "                       min_samples_leaf=1, min_samples_split=2,\n",
              "                       min_weight_fraction_leaf=0.0, n_estimators=10,\n",
              "                       n_jobs=None, oob_score=False, random_state=0, verbose=0,\n",
              "                       warm_start=False)"
            ]
          },
          "metadata": {
            "tags": []
          },
          "execution_count": 5
        }
      ]
    },
    {
      "cell_type": "code",
      "metadata": {
        "id": "-hP8o6_z7rzN",
        "colab_type": "code",
        "outputId": "10405ae0-8e4c-45dd-d1c6-215b3a547e91",
        "colab": {
          "base_uri": "https://localhost:8080/",
          "height": 269
        }
      },
      "source": [
        "import matplotlib.pyplot as plt\n",
        "validation_currency_images = []\n",
        "validation_labels = [] \n",
        "for currency_dir_path in glob.glob(\"/content/drive/My Drive/Project/new note/test_data/*\"):\n",
        "    currency_label = currency_dir_path.split(\"/\")[-1]\n",
        "    for image_path in glob.glob(os.path.join(currency_dir_path, \"*.jpg\")):\n",
        "        image = cv2.imread(image_path)\n",
        "        image = cv2.resize(image, (110, 110))\n",
        "        image = cv2.cvtColor(image, cv2.COLOR_RGB2GRAY)\n",
        "        #image = cv2.cvtColor(image, cv2.COLOR_RGB2BGR)\n",
        "        validation_currency_images.append(image)\n",
        "        validation_labels.append(currency_label)\n",
        "validation_currency_images = np.array(validation_currency_images)\n",
        "plt.imshow(validation_currency_images[18])\n",
        "plt.show()\n",
        "#cv2.imshow(validation_fruit_images[1])\n",
        "validation_currency_images = validation_currency_images.reshape(len(validation_currency_images),-1)\n",
        "validation_labels = np.array(validation_labels)"
      ],
      "execution_count": 0,
      "outputs": [
        {
          "output_type": "display_data",
          "data": {
            "image/png": "[encoded data removed]",
            "text/plain": [
              "<Figure size 432x288 with 1 Axes>"
            ]
          },
          "metadata": {
            "tags": []
          }
        }
      ]
    },
    {
      "cell_type": "code",
      "metadata": {
        "id": "pooG1ztl7xdH",
        "colab_type": "code",
        "outputId": "d066874b-f77e-4d52-cf87-d49a6396f16d",
        "colab": {
          "base_uri": "https://localhost:8080/",
          "height": 34
        }
      },
      "source": [
        "print(np.shape(validation_currency_images))"
      ],
      "execution_count": 0,
      "outputs": [
        {
          "output_type": "stream",
          "text": [
            "(64, 12100)\n"
          ],
          "name": "stdout"
        }
      ]
    },
    {
      "cell_type": "code",
      "metadata": {
        "id": "dqOCRKxd8Qgg",
        "colab_type": "code",
        "colab": {}
      },
      "source": [
        ""
      ],
      "execution_count": 0,
      "outputs": []
    },
    {
      "cell_type": "code",
      "metadata": {
        "id": "ncL0YTZP75Re",
        "colab_type": "code",
        "outputId": "44b7b742-cba6-4443-d60d-b7930bd83296",
        "colab": {
          "base_uri": "https://localhost:8080/",
          "height": 68
        }
      },
      "source": [
        "count=0 \n",
        "total = np.shape(validation_currency_images)[0]\n",
        "print(total)\n",
        "for i in range(total):\n",
        "    check=clf.predict([validation_currency_images[i]])\n",
        "    if check[0] == validation_labels[i] :\n",
        "        count += 1\n",
        "print(count)\n",
        "print(\"Accuracy is \", count/total)"
      ],
      "execution_count": 0,
      "outputs": [
        {
          "output_type": "stream",
          "text": [
            "64\n",
            "24\n",
            "Accuracy is  0.375\n"
          ],
          "name": "stdout"
        }
      ]
    },
    {
      "cell_type": "code",
      "metadata": {
        "id": "Rm4Zx0Ok78xK",
        "colab_type": "code",
        "outputId": "6f80f832-48a3-47ac-b70e-f7a6daafcf9a",
        "colab": {
          "base_uri": "https://localhost:8080/",
          "height": 122
        }
      },
      "source": [
        "clsvm = svm.SVC()\n",
        "clsvm.fit(currency_images, labels)\n",
        "count=0 \n",
        "total = np.shape(validation_currency_images)[0]\n",
        "print(total)\n",
        "for i in range(total):\n",
        "    check=clsvm.predict([validation_currency_images[i]])\n",
        "    if check[0] == validation_labels[i] :\n",
        "        count += 1\n",
        "print(count)\n",
        "print(\"Accuracy is \", count/total)"
      ],
      "execution_count": 0,
      "outputs": [
        {
          "output_type": "stream",
          "text": [
            "/usr/local/lib/python3.6/dist-packages/sklearn/svm/base.py:193: FutureWarning: The default value of gamma will change from 'auto' to 'scale' in version 0.22 to account better for unscaled features. Set gamma explicitly to 'auto' or 'scale' to avoid this warning.\n",
            "  \"avoid this warning.\", FutureWarning)\n"
          ],
          "name": "stderr"
        },
        {
          "output_type": "stream",
          "text": [
            "64\n",
            "11\n",
            "Accuracy is  0.171875\n"
          ],
          "name": "stdout"
        }
      ]
    },
    {
      "cell_type": "code",
      "metadata": {
        "id": "ZdEfnxYU8Tc6",
        "colab_type": "code",
        "outputId": "c42fe26f-7be5-4cbe-9253-b8728f30dc09",
        "colab": {
          "base_uri": "https://localhost:8080/",
          "height": 68
        }
      },
      "source": [
        "from sklearn.tree import DecisionTreeClassifier\n",
        "clt=DecisionTreeClassifier()\n",
        "clt.fit(currency_images, labels)\n",
        "count=0 \n",
        "total = np.shape(validation_currency_images)[0]\n",
        "print(total)\n",
        "for i in range(total):\n",
        "    check=clt.predict([validation_currency_images[i]])\n",
        "    if check[0] == validation_labels[i] :\n",
        "        count += 1\n",
        "print(count)\n",
        "print(\"Accuracy is \", count/total)"
      ],
      "execution_count": 0,
      "outputs": [
        {
          "output_type": "stream",
          "text": [
            "64\n",
            "19\n",
            "Accuracy is  0.296875\n"
          ],
          "name": "stdout"
        }
      ]
    },
    {
      "cell_type": "code",
      "metadata": {
        "id": "Srvug-PD8Wr6",
        "colab_type": "code",
        "outputId": "33fde117-5f3b-44dc-c442-4dbe077304cc",
        "colab": {
          "base_uri": "https://localhost:8080/",
          "height": 68
        }
      },
      "source": [
        "from sklearn.neighbors import KNeighborsClassifier\n",
        "cln=KNeighborsClassifier(n_neighbors=3)\n",
        "cln.fit(currency_images, labels)\n",
        "count=0 \n",
        "total = np.shape(validation_currency_images)[0]\n",
        "print(total)\n",
        "for i in range(total):\n",
        "    check=cln.predict([validation_currency_images[i]])\n",
        "    if check[0] == validation_labels[i] :\n",
        "        count += 1\n",
        "print(count)\n",
        "print(\"Accuracy is \", count/total)"
      ],
      "execution_count": 0,
      "outputs": [
        {
          "output_type": "stream",
          "text": [
            "64\n",
            "24\n",
            "Accuracy is  0.375\n"
          ],
          "name": "stdout"
        }
      ]
    },
    {
      "cell_type": "code",
      "metadata": {
        "id": "0DNo_hbJ8aR1",
        "colab_type": "code",
        "outputId": "fa1e0b42-ecf8-48d4-b3bc-79de1805f87b",
        "colab": {
          "base_uri": "https://localhost:8080/",
          "height": 68
        }
      },
      "source": [
        "from sklearn.linear_model import SGDClassifier\n",
        "clsgd=SGDClassifier(loss='modified_huber')\n",
        "clsgd.fit(currency_images, labels)\n",
        "count=0 \n",
        "total = np.shape(validation_currency_images)[0]\n",
        "print(total)\n",
        "for i in range(total):\n",
        "    check=clsgd.predict([validation_currency_images[i]])\n",
        "    if check[0] == validation_labels[i] :\n",
        "        count += 1\n",
        "print(count)\n",
        "print(\"Accuracy is \", count/total)"
      ],
      "execution_count": 0,
      "outputs": [
        {
          "output_type": "stream",
          "text": [
            "64\n",
            "22\n",
            "Accuracy is  0.34375\n"
          ],
          "name": "stdout"
        }
      ]
    },
    {
      "cell_type": "code",
      "metadata": {
        "id": "Hv46IuJ08khI",
        "colab_type": "code",
        "colab": {}
      },
      "source": [
        "import keras\n",
        "from keras.models import Sequential\n",
        "from keras.layers import Conv2D\n",
        "from keras.layers import MaxPooling2D\n",
        "from keras.layers import Flatten\n",
        "from keras.layers import Dense\n",
        "from keras.preprocessing.image import ImageDataGenerator, load_img"
      ],
      "execution_count": 0,
      "outputs": []
    },
    {
      "cell_type": "code",
      "metadata": {
        "id": "ePFYjiW09dkC",
        "colab_type": "code",
        "colab": {}
      },
      "source": [
        "train_folder= \"/content/drive/My Drive/Project/new note/train_data\"\n",
        "test_folder=\"/content/drive/My Drive/Project/new note/test_data\"\n",
        "val_folder=\"/content/drive/My Drive/Project/new note/val_data\""
      ],
      "execution_count": 0,
      "outputs": []
    },
    {
      "cell_type": "code",
      "metadata": {
        "id": "ZcRBq8TQ9ltk",
        "colab_type": "code",
        "outputId": "0ee220d2-8698-4e5f-ef29-69357bd9eba6",
        "colab": {
          "base_uri": "https://localhost:8080/",
          "height": 292
        }
      },
      "source": [
        "cnn = Sequential()\n",
        "\n",
        "    # Convolution\n",
        "cnn.add(Conv2D(32, (3, 3), activation=\"relu\", input_shape=(110, 110, 3)))\n",
        "\n",
        "#Pooling\n",
        "cnn.add(MaxPooling2D(pool_size = (2, 2)))\n",
        "\n",
        "# 2nd Convolution\n",
        "cnn.add(Conv2D(32, (3, 3), activation=\"relu\"))\n",
        "\n",
        "# 2nd Pooling layer\n",
        "cnn.add(MaxPooling2D(pool_size = (2, 2)))\n",
        "\n",
        "# 3rd Convolution\n",
        "cnn.add(Conv2D(32, (3, 3), activation=\"relu\"))\n",
        "\n",
        "# 3rd Pooling layer\n",
        "cnn.add(MaxPooling2D(pool_size = (2, 2)))\n",
        "\n",
        "# 4th Convolution\n",
        "cnn.add(Conv2D(32, (3, 3), activation=\"relu\"))\n",
        "\n",
        "# 4th Pooling layer\n",
        "cnn.add(MaxPooling2D(pool_size = (2, 2)))\n",
        "\n",
        "# Flatten the layer\n",
        "cnn.add(Flatten())\n",
        "\n",
        "# Fully Connected Layers\n",
        "cnn.add(Dense(activation = 'relu', units = 128))\n",
        "cnn.add(Dense(activation = 'sigmoid', units = 6))\n",
        "\n",
        "# Compile the Neural network\n",
        "cnn.compile(optimizer = 'adam', loss = 'binary_crossentropy', metrics = ['accuracy'])"
      ],
      "execution_count": 0,
      "outputs": [
        {
          "output_type": "stream",
          "text": [
            "WARNING:tensorflow:From /usr/local/lib/python3.6/dist-packages/keras/backend/tensorflow_backend.py:66: The name tf.get_default_graph is deprecated. Please use tf.compat.v1.get_default_graph instead.\n",
            "\n",
            "WARNING:tensorflow:From /usr/local/lib/python3.6/dist-packages/keras/backend/tensorflow_backend.py:541: The name tf.placeholder is deprecated. Please use tf.compat.v1.placeholder instead.\n",
            "\n",
            "WARNING:tensorflow:From /usr/local/lib/python3.6/dist-packages/keras/backend/tensorflow_backend.py:4432: The name tf.random_uniform is deprecated. Please use tf.random.uniform instead.\n",
            "\n",
            "WARNING:tensorflow:From /usr/local/lib/python3.6/dist-packages/keras/backend/tensorflow_backend.py:4267: The name tf.nn.max_pool is deprecated. Please use tf.nn.max_pool2d instead.\n",
            "\n",
            "WARNING:tensorflow:From /usr/local/lib/python3.6/dist-packages/keras/optimizers.py:793: The name tf.train.Optimizer is deprecated. Please use tf.compat.v1.train.Optimizer instead.\n",
            "\n",
            "WARNING:tensorflow:From /usr/local/lib/python3.6/dist-packages/keras/backend/tensorflow_backend.py:3657: The name tf.log is deprecated. Please use tf.math.log instead.\n",
            "\n",
            "WARNING:tensorflow:From /usr/local/lib/python3.6/dist-packages/tensorflow_core/python/ops/nn_impl.py:183: where (from tensorflow.python.ops.array_ops) is deprecated and will be removed in a future version.\n",
            "Instructions for updating:\n",
            "Use tf.where in 2.0, which has the same broadcast rule as np.where\n"
          ],
          "name": "stdout"
        }
      ]
    },
    {
      "cell_type": "code",
      "metadata": {
        "id": "PZNdGGre9qIH",
        "colab_type": "code",
        "outputId": "3957c38a-724c-4047-e148-255f38728b6a",
        "colab": {
          "base_uri": "https://localhost:8080/",
          "height": 68
        }
      },
      "source": [
        "train_datagen = ImageDataGenerator(rescale = 1./255, shear_range=0.2, zoom_range = 0.2, horizontal_flip = True)\n",
        "test_datagen =  ImageDataGenerator(rescale= 1./255)\n",
        "\n",
        "training_set = train_datagen.flow_from_directory(\"/content/drive/My Drive/Project/new note/train_data\",\n",
        "                                                 target_size=(110,110),\n",
        "                                                 batch_size=15)\n",
        "test_set= test_datagen.flow_from_directory(\"/content/drive/My Drive/Project/new note/test_data\",\n",
        "                                            target_size= (110,110),\n",
        "                                            batch_size=15)\n",
        "validation_generator= test_datagen.flow_from_directory(\"/content/drive/My Drive/Project/new note/val_data\",\n",
        "                                           target_size=(110,110),\n",
        "                                            batch_size=15)"
      ],
      "execution_count": 0,
      "outputs": [
        {
          "output_type": "stream",
          "text": [
            "Found 321 images belonging to 6 classes.\n",
            "Found 64 images belonging to 6 classes.\n",
            "Found 59 images belonging to 6 classes.\n"
          ],
          "name": "stdout"
        }
      ]
    },
    {
      "cell_type": "code",
      "metadata": {
        "id": "63pBBDV3962d",
        "colab_type": "code",
        "outputId": "98e4f957-8b77-4fe2-df52-7ac182a9f92f",
        "colab": {
          "base_uri": "https://localhost:8080/",
          "height": 649
        }
      },
      "source": [
        "cnn_model = cnn.fit_generator(training_set,\n",
        "                         steps_per_epoch = 24,\n",
        "                         epochs =10,\n",
        "                         validation_data = validation_generator,\n",
        "                         validation_steps = 8)"
      ],
      "execution_count": 0,
      "outputs": [
        {
          "output_type": "stream",
          "text": [
            "WARNING:tensorflow:From /usr/local/lib/python3.6/dist-packages/keras/backend/tensorflow_backend.py:1033: The name tf.assign_add is deprecated. Please use tf.compat.v1.assign_add instead.\n",
            "\n",
            "WARNING:tensorflow:From /usr/local/lib/python3.6/dist-packages/keras/backend/tensorflow_backend.py:1020: The name tf.assign is deprecated. Please use tf.compat.v1.assign instead.\n",
            "\n",
            "WARNING:tensorflow:From /usr/local/lib/python3.6/dist-packages/keras/backend/tensorflow_backend.py:3005: The name tf.Session is deprecated. Please use tf.compat.v1.Session instead.\n",
            "\n",
            "Epoch 1/10\n",
            "WARNING:tensorflow:From /usr/local/lib/python3.6/dist-packages/keras/backend/tensorflow_backend.py:190: The name tf.get_default_session is deprecated. Please use tf.compat.v1.get_default_session instead.\n",
            "\n",
            "WARNING:tensorflow:From /usr/local/lib/python3.6/dist-packages/keras/backend/tensorflow_backend.py:197: The name tf.ConfigProto is deprecated. Please use tf.compat.v1.ConfigProto instead.\n",
            "\n",
            "WARNING:tensorflow:From /usr/local/lib/python3.6/dist-packages/keras/backend/tensorflow_backend.py:207: The name tf.global_variables is deprecated. Please use tf.compat.v1.global_variables instead.\n",
            "\n",
            "WARNING:tensorflow:From /usr/local/lib/python3.6/dist-packages/keras/backend/tensorflow_backend.py:216: The name tf.is_variable_initialized is deprecated. Please use tf.compat.v1.is_variable_initialized instead.\n",
            "\n",
            "WARNING:tensorflow:From /usr/local/lib/python3.6/dist-packages/keras/backend/tensorflow_backend.py:223: The name tf.variables_initializer is deprecated. Please use tf.compat.v1.variables_initializer instead.\n",
            "\n",
            "24/24 [==============================] - 67s 3s/step - loss: 0.4913 - acc: 0.8241 - val_loss: 0.4577 - val_acc: 0.8333\n",
            "Epoch 2/10\n",
            "24/24 [==============================] - 58s 2s/step - loss: 0.4482 - acc: 0.8333 - val_loss: 0.4714 - val_acc: 0.8333\n",
            "Epoch 3/10\n",
            "24/24 [==============================] - 57s 2s/step - loss: 0.4108 - acc: 0.8384 - val_loss: 0.4836 - val_acc: 0.8107\n",
            "Epoch 4/10\n",
            "24/24 [==============================] - 60s 2s/step - loss: 0.3964 - acc: 0.8384 - val_loss: 0.4795 - val_acc: 0.8277\n",
            "Epoch 5/10\n",
            "24/24 [==============================] - 57s 2s/step - loss: 0.3527 - acc: 0.8505 - val_loss: 0.4374 - val_acc: 0.8277\n",
            "Epoch 6/10\n",
            "24/24 [==============================] - 56s 2s/step - loss: 0.3209 - acc: 0.8711 - val_loss: 0.5962 - val_acc: 0.8051\n",
            "Epoch 7/10\n",
            "24/24 [==============================] - 57s 2s/step - loss: 0.3042 - acc: 0.8771 - val_loss: 0.3846 - val_acc: 0.8418\n",
            "Epoch 8/10\n",
            "24/24 [==============================] - 56s 2s/step - loss: 0.2696 - acc: 0.8852 - val_loss: 0.5543 - val_acc: 0.8192\n",
            "Epoch 9/10\n",
            "24/24 [==============================] - 57s 2s/step - loss: 0.2243 - acc: 0.9046 - val_loss: 0.4440 - val_acc: 0.8475\n",
            "Epoch 10/10\n",
            "24/24 [==============================] - 54s 2s/step - loss: 0.1886 - acc: 0.9148 - val_loss: 0.6403 - val_acc: 0.8362\n"
          ],
          "name": "stdout"
        }
      ]
    },
    {
      "cell_type": "code",
      "metadata": {
        "id": "csnFWOft9-bL",
        "colab_type": "code",
        "outputId": "5407b055-66f1-4ec0-a4b4-99545b31ed9b",
        "colab": {
          "base_uri": "https://localhost:8080/",
          "height": 34
        }
      },
      "source": [
        "test_accu=cnn.evaluate_generator(test_set, steps=4)\n",
        "print('The testing accuracy is :',test_accu[1]*100, '%')"
      ],
      "execution_count": 0,
      "outputs": [
        {
          "output_type": "stream",
          "text": [
            "The testing accuracy is : 82.22222328186035 %\n"
          ],
          "name": "stdout"
        }
      ]
    },
    {
      "cell_type": "code",
      "metadata": {
        "id": "V6kloy1eV9ya",
        "colab_type": "code",
        "outputId": "df465c51-ff96-4cee-9196-961240b730b8",
        "colab": {
          "base_uri": "https://localhost:8080/",
          "height": 231
        }
      },
      "source": [
        "#img = image.load_img(\"/content/drive/My Drive/Project/new note/test_data/200.jpg\", target_size=(110, 110))\n",
        "image = cv2.imread(\"/content/drive/My Drive/Project/new note/test_data/200.jpg\")\n",
        "image = cv2.resize(image, (110, 110))\n",
        "\n",
        "images = np.vstack([x])\n",
        "classes = model.predict_classes(images, batch_size=1)\n",
        "print (classes[0])"
      ],
      "execution_count": 0,
      "outputs": [
        {
          "output_type": "error",
          "ename": "AttributeError",
          "evalue": "ignored",
          "traceback": [
            "\u001b[0;31m---------------------------------------------------------------------------\u001b[0m",
            "\u001b[0;31mAttributeError\u001b[0m                            Traceback (most recent call last)",
            "\u001b[0;32m<ipython-input-23-9ba8c2c4e09c>\u001b[0m in \u001b[0;36m<module>\u001b[0;34m()\u001b[0m\n\u001b[0;32m----> 1\u001b[0;31m \u001b[0mimg\u001b[0m \u001b[0;34m=\u001b[0m \u001b[0mimage\u001b[0m\u001b[0;34m.\u001b[0m\u001b[0mload_img\u001b[0m\u001b[0;34m(\u001b[0m\u001b[0;34m\"/content/drive/My Drive/Project/new note/test_data/200.jpg\"\u001b[0m\u001b[0;34m,\u001b[0m \u001b[0mtarget_size\u001b[0m\u001b[0;34m=\u001b[0m\u001b[0;34m(\u001b[0m\u001b[0;36m110\u001b[0m\u001b[0;34m,\u001b[0m \u001b[0;36m110\u001b[0m\u001b[0;34m)\u001b[0m\u001b[0;34m)\u001b[0m\u001b[0;34m\u001b[0m\u001b[0;34m\u001b[0m\u001b[0m\n\u001b[0m\u001b[1;32m      2\u001b[0m \u001b[0mx\u001b[0m \u001b[0;34m=\u001b[0m \u001b[0mimage\u001b[0m\u001b[0;34m.\u001b[0m\u001b[0mimg_to_array\u001b[0m\u001b[0;34m(\u001b[0m\u001b[0mimg\u001b[0m\u001b[0;34m)\u001b[0m\u001b[0;34m\u001b[0m\u001b[0;34m\u001b[0m\u001b[0m\n\u001b[1;32m      3\u001b[0m \u001b[0mx\u001b[0m \u001b[0;34m=\u001b[0m \u001b[0mnp\u001b[0m\u001b[0;34m.\u001b[0m\u001b[0mexpand_dims\u001b[0m\u001b[0;34m(\u001b[0m\u001b[0mx\u001b[0m\u001b[0;34m,\u001b[0m \u001b[0maxis\u001b[0m\u001b[0;34m=\u001b[0m\u001b[0;36m0\u001b[0m\u001b[0;34m)\u001b[0m\u001b[0;34m\u001b[0m\u001b[0;34m\u001b[0m\u001b[0m\n\u001b[1;32m      4\u001b[0m \u001b[0;34m\u001b[0m\u001b[0m\n\u001b[1;32m      5\u001b[0m \u001b[0mimages\u001b[0m \u001b[0;34m=\u001b[0m \u001b[0mnp\u001b[0m\u001b[0;34m.\u001b[0m\u001b[0mvstack\u001b[0m\u001b[0;34m(\u001b[0m\u001b[0;34m[\u001b[0m\u001b[0mx\u001b[0m\u001b[0;34m]\u001b[0m\u001b[0;34m)\u001b[0m\u001b[0;34m\u001b[0m\u001b[0;34m\u001b[0m\u001b[0m\n",
            "\u001b[0;31mAttributeError\u001b[0m: 'numpy.ndarray' object has no attribute 'load_img'"
          ]
        }
      ]
    },
    {
      "cell_type": "code",
      "metadata": {
        "id": "2pxUuz0kAL98",
        "colab_type": "code",
        "colab": {}
      },
      "source": [
        ""
      ],
      "execution_count": 0,
      "outputs": []
    }
  ]
}